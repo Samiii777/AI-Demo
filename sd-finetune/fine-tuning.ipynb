{
 "cells": [
  {
   "cell_type": "markdown",
   "id": "9d42c576-06e3-4614-ade8-7199c0bab7af",
   "metadata": {},
   "source": [
    "# How to Fine-Tune Stable Diffsuion Model using Lora"
   ]
  },
  {
   "cell_type": "code",
   "execution_count": null,
   "id": "7f9a42b2-7a2f-4a9b-b2d2-ff4697013639",
   "metadata": {},
   "outputs": [],
   "source": [
    "git clone https://github.com/huggingface/diffusers.git\n",
    "cd diffusers\n",
    "pip install .\n",
    "cd examples/text_to_image\n",
    "pip3 install -r requirements.txt\n",
    "pip3 install pillow==10.4.0\n",
    "accelerate config default\n",
    "mkdir -p data/cat\n",
    "# We got our cat images from here: https://github.com/harrywang/finetune-sd/tree/main/data/full-finetune/cat\n",
    "## Copy the cat images + the metadata.jsonl to the cat folder you created"
   ]
  },
  {
   "cell_type": "code",
   "execution_count": 1,
   "id": "7a9bc372-d2d4-41b7-9236-89388a443f7e",
   "metadata": {},
   "outputs": [
    {
     "name": "stdout",
     "output_type": "stream",
     "text": [
      "2024-08-29 19:38:30.313880: E external/local_xla/xla/stream_executor/plugin_registry.cc:93] Invalid plugin kind specified: DNN\n",
      "2024-08-29 19:38:30.356745: I tensorflow/core/platform/cpu_feature_guard.cc:182] This TensorFlow binary is optimized to use available CPU instructions in performance-critical operations.\n",
      "To enable the following instructions: AVX2 FMA, in other operations, rebuild TensorFlow with the appropriate compiler flags.\n",
      "08/29/2024 19:38:31 - INFO - __main__ - Distributed environment: NO\n",
      "Num processes: 1\n",
      "Process index: 0\n",
      "Local process index: 0\n",
      "Device: cuda\n",
      "\n",
      "Mixed precision type: no\n",
      "\n",
      "{'rescale_betas_zero_snr', 'thresholding', 'sample_max_value', 'timestep_spacing', 'dynamic_thresholding_ratio', 'variance_type', 'clip_sample_range'} was not found in config. Values will be initialized to default values.\n",
      "/home/sami/.local/lib/python3.10/site-packages/transformers/tokenization_utils_base.py:1601: FutureWarning: `clean_up_tokenization_spaces` was not set. It will be set to `True` by default. This behavior will be depracted in transformers v4.45, and will be then set to `False` by default. For more details check this issue: https://github.com/huggingface/transformers/issues/31884\n",
      "  warnings.warn(\n",
      "{'latents_std', 'mid_block_add_attention', 'shift_factor', 'use_quant_conv', 'use_post_quant_conv', 'force_upcast', 'scaling_factor', 'latents_mean'} was not found in config. Values will be initialized to default values.\n",
      "{'mid_block_type', 'time_embedding_type', 'conv_in_kernel', 'reverse_transformer_layers_per_block', 'num_attention_heads', 'dropout', 'class_embeddings_concat', 'time_embedding_dim', 'attention_type', 'cross_attention_norm', 'encoder_hid_dim_type', 'addition_embed_type_num_heads', 'transformer_layers_per_block', 'timestep_post_act', 'resnet_time_scale_shift', 'time_cond_proj_dim', 'encoder_hid_dim', 'mid_block_only_cross_attention', 'time_embedding_act_fn', 'conv_out_kernel', 'addition_embed_type', 'resnet_skip_time_act', 'projection_class_embeddings_input_dim', 'class_embed_type', 'resnet_out_scale_factor', 'addition_time_embed_dim'} was not found in config. Values will be initialized to default values.\n",
      "08/29/2024 19:38:35 - INFO - __main__ - ***** Running training *****\n",
      "08/29/2024 19:38:35 - INFO - __main__ -   Num examples = 15\n",
      "08/29/2024 19:38:35 - INFO - __main__ -   Num Epochs = 375\n",
      "08/29/2024 19:38:35 - INFO - __main__ -   Instantaneous batch size per device = 1\n",
      "08/29/2024 19:38:35 - INFO - __main__ -   Total train batch size (w. parallel, distributed & accumulation) = 4\n",
      "08/29/2024 19:38:35 - INFO - __main__ -   Gradient Accumulation steps = 4\n",
      "08/29/2024 19:38:35 - INFO - __main__ -   Total optimization steps = 1500\n",
      "Steps:   0%|     | 4/1500 [00:15<1:14:31,  2.99s/it, lr=0.0001, step_loss=0.339]{'image_encoder'} was not found in config. Values will be initialized to default values.\n",
      "\n",
      "Loading pipeline components...:   0%|                     | 0/6 [00:00<?, ?it/s]\u001b[ALoaded feature_extractor as CLIPImageProcessor from `feature_extractor` subfolder of stabilityai/stable-diffusion-2-1.\n",
      "{'rescale_betas_zero_snr', 'thresholding', 'sample_max_value', 'timestep_spacing', 'dynamic_thresholding_ratio', 'clip_sample_range'} was not found in config. Values will be initialized to default values.\n",
      "Loaded scheduler as DDIMScheduler from `scheduler` subfolder of stabilityai/stable-diffusion-2-1.\n",
      "{'latents_std', 'mid_block_add_attention', 'shift_factor', 'use_quant_conv', 'use_post_quant_conv', 'force_upcast', 'scaling_factor', 'latents_mean'} was not found in config. Values will be initialized to default values.\n",
      "Loaded vae as AutoencoderKL from `vae` subfolder of stabilityai/stable-diffusion-2-1.\n",
      "Loaded text_encoder as CLIPTextModel from `text_encoder` subfolder of stabilityai/stable-diffusion-2-1.\n",
      "\n",
      "Loading pipeline components...:  67%|████████▋    | 4/6 [00:00<00:00, 16.54it/s]\u001b[ALoaded tokenizer as CLIPTokenizer from `tokenizer` subfolder of stabilityai/stable-diffusion-2-1.\n",
      "Loading pipeline components...: 100%|█████████████| 6/6 [00:00<00:00, 21.32it/s]\n",
      "08/29/2024 19:38:51 - INFO - __main__ - Running validation... \n",
      " Generating 4 images with prompt: A photo of a cat in a bucket.\n",
      "/home/sami/.local/lib/python3.10/site-packages/diffusers/image_processor.py:111: RuntimeWarning: invalid value encountered in cast\n",
      "  images = (images * 255).round().astype(\"uint8\")\n",
      "Steps:   1%|    | 19/1500 [01:26<1:05:50,  2.67s/it, lr=0.0001, step_loss=0.372]^C\n"
     ]
    }
   ],
   "source": [
    "!accelerate launch  diffusers/examples/text_to_image/train_text_to_image_lora.py \\\n",
    "  --mixed_precision=no \\\n",
    "  --pretrained_model_name_or_path=\"stabilityai/stable-diffusion-2-1\" \\\n",
    "  --train_data_dir=\"diffusers/examples/text_to_image/data/cat\" \\\n",
    "  --dataloader_num_workers=8 \\\n",
    "  --resolution=768 --center_crop --random_flip \\\n",
    "  --train_batch_size=1 \\\n",
    "  --gradient_accumulation_steps=4 \\\n",
    "  --max_train_steps=1500 \\\n",
    "  --learning_rate=1e-04 \\\n",
    "  --max_grad_norm=1 \\\n",
    "  --lr_scheduler=\"cosine\" --lr_warmup_steps=0 \\\n",
    "  --output_dir=\"diffusers/examples/text_to_image/models/lora/cat\" \\\n",
    "  --checkpointing_steps=500 \\\n",
    "  --validation_prompt=\"A photo of a cat in a bucket\" \\\n",
    "  --validation_epochs=10 \\\n",
    "  --seed=42\n"
   ]
  },
  {
   "cell_type": "code",
   "execution_count": null,
   "id": "289f6fbb-434f-4af7-8c7c-bb86a3ca488a",
   "metadata": {},
   "outputs": [],
   "source": []
  }
 ],
 "metadata": {
  "kernelspec": {
   "display_name": "Python 3 (ipykernel)",
   "language": "python",
   "name": "python3"
  },
  "language_info": {
   "codemirror_mode": {
    "name": "ipython",
    "version": 3
   },
   "file_extension": ".py",
   "mimetype": "text/x-python",
   "name": "python",
   "nbconvert_exporter": "python",
   "pygments_lexer": "ipython3",
   "version": "3.10.12"
  }
 },
 "nbformat": 4,
 "nbformat_minor": 5
}
