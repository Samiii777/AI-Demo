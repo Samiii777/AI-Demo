{
 "cells": [
  {
   "cell_type": "markdown",
   "id": "8da0eb7e-dddf-4014-8921-90ca111164b5",
   "metadata": {},
   "source": [
    "# Stable Diffusion 2.1 with Original Weights"
   ]
  },
  {
   "cell_type": "code",
   "execution_count": 1,
   "id": "f72fecb4-55b2-4a61-886d-3e2846cdb600",
   "metadata": {},
   "outputs": [
    {
     "name": "stderr",
     "output_type": "stream",
     "text": [
      "/home/sami/.local/lib/python3.10/site-packages/tqdm/auto.py:21: TqdmWarning: IProgress not found. Please update jupyter and ipywidgets. See https://ipywidgets.readthedocs.io/en/stable/user_install.html\n",
      "  from .autonotebook import tqdm as notebook_tqdm\n",
      "2024-09-04 13:10:22.926187: E external/local_xla/xla/stream_executor/plugin_registry.cc:93] Invalid plugin kind specified: DNN\n",
      "2024-09-04 13:10:22.955366: I tensorflow/core/platform/cpu_feature_guard.cc:182] This TensorFlow binary is optimized to use available CPU instructions in performance-critical operations.\n",
      "To enable the following instructions: AVX2 AVX512F AVX512_VNNI AVX512_BF16 FMA, in other operations, rebuild TensorFlow with the appropriate compiler flags.\n",
      "Loading pipeline components...: 100%|██████████| 6/6 [00:00<00:00, 18.71it/s]\n"
     ]
    }
   ],
   "source": [
    "from diffusers import DiffusionPipeline\n",
    "#import torch\n",
    "\n",
    "pipeline = DiffusionPipeline.from_pretrained(\"stabilityai/stable-diffusion-2-1\")\n",
    "pipeline.to(\"cuda\");\n"
   ]
  },
  {
   "cell_type": "code",
   "execution_count": 2,
   "id": "12ac9824-b363-4863-a28d-056cb429f571",
   "metadata": {},
   "outputs": [
    {
     "name": "stderr",
     "output_type": "stream",
     "text": [
      " 52%|█████▏    | 26/50 [00:11<00:10,  2.26it/s]"
     ]
    }
   ],
   "source": [
    "prompt = \"A photo of a cat in a bucket\"\n",
    "#generator = torch.Generator(\"cuda\").manual_seed(3)\n",
    "#image = pipeline(prompt, generator=generator).images[0]\n",
    "image = pipeline(prompt).images[0]\n",
    "\n",
    "image"
   ]
  },
  {
   "cell_type": "code",
   "execution_count": null,
   "id": "127564b5-6d50-440a-b626-8ebc18d3bb75",
   "metadata": {},
   "outputs": [],
   "source": []
  }
 ],
 "metadata": {
  "kernelspec": {
   "display_name": "Python 3 (ipykernel)",
   "language": "python",
   "name": "python3"
  },
  "language_info": {
   "codemirror_mode": {
    "name": "ipython",
    "version": 3
   },
   "file_extension": ".py",
   "mimetype": "text/x-python",
   "name": "python",
   "nbconvert_exporter": "python",
   "pygments_lexer": "ipython3",
   "version": "3.10.12"
  }
 },
 "nbformat": 4,
 "nbformat_minor": 5
}
